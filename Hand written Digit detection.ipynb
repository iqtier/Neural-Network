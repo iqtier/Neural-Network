{
 "cells": [
  {
   "cell_type": "code",
   "execution_count": null,
   "id": "f24eaeda",
   "metadata": {},
   "outputs": [],
   "source": [
    "import time\n",
    "import random\n",
    "import numpy as np\n",
    "from tqdm.auto import tqdm\n",
    "from keras.datasets import mnist\n",
    "from matplotlib import pyplot as plt"
   ]
  },
  {
   "cell_type": "code",
   "execution_count": null,
   "id": "a22e46bc",
   "metadata": {},
   "outputs": [],
   "source": [
    "#Loading Training data and test data\n",
    "objects = mnist\n",
    "(train_img, train_lab), (test_imag, test_lab) = objects.load_data()\n",
    "\n",
    "train_size,width, height = train_img.shape\n",
    "X_test = test_imag\n",
    "test_image = (X_test.reshape(X_test.shape[0], (X_test.shape[1]*X_test.shape[2])).T)/255\n",
    "\n",
    "X_train = train_img\n",
    "train_image =(X_train.reshape(X_train.shape[0], (X_train.shape[1]*X_train.shape[2])).T)/255"
   ]
  },
  {
   "cell_type": "code",
   "execution_count": null,
   "id": "3f50c6d8",
   "metadata": {},
   "outputs": [],
   "source": [
    "#Initializing the weights and bias\n",
    "def init_params(input, neuron, output):\n",
    "    weight1 = np.random.rand(neuron, input) - 0.5\n",
    "    bias1 = np.random.rand(neuron, 1) - 0.5\n",
    "    weight2 = np.random.rand(output, neuron) - 0.5\n",
    "    bias2 = np.random.rand(output, 1) - 0.5\n",
    "    return weight1, bias1, weight2, bias2\n",
    "\n",
    "#ReLU activation fucntion\n",
    "def ReLU(Z):\n",
    "    return np.maximum(Z, 0)\n",
    "\n",
    "#sigmoid activation fucntion\n",
    "def sigmoid(Z):\n",
    "    return 1/(1+np.exp(-Z))\n",
    "\n",
    "#softmax fucntion for output layer\n",
    "def softmax(Z):\n",
    "    A = np.exp(Z) / sum(np.exp(Z))\n",
    "    return A\n",
    "\n",
    "# forward porpagation    \n",
    "def forward_prop(W1, b1, W2, b2, X, activation):\n",
    "\n",
    "    Z1 = W1.dot(X) + b1\n",
    "    if activation == \"ReLU\":\n",
    "        A1 = ReLU(Z1)\n",
    "    else:\n",
    "        A1 = sigmoid(Z1)\n",
    "    Z2 = W2.dot(A1) + b2\n",
    "    A2 = softmax(Z2)\n",
    "    return Z1, A1, Z2, A2\n",
    "\n",
    "#Derivative of activation function\n",
    "def ReLU_deriv(Z):\n",
    "    return Z > 0\n",
    "\n",
    "# one hot encoding method\n",
    "def one_hot_encoding(Y):\n",
    "    one_hot_Y = np.zeros((Y.size, Y.max() + 1))\n",
    "    one_hot_Y[np.arange(Y.size), Y] = 1\n",
    "    one_hot_Y = one_hot_Y.T\n",
    "    return one_hot_Y\n",
    "\n",
    "#bacward propagation\n",
    "def backward_prop(Z1, A1, Z2, A2, W1, W2, X, Y):\n",
    "    one_hot_Y = one_hot_encoding(Y)\n",
    "    dZ2 = A2 - one_hot_Y\n",
    "    dW2 = 1 / train_size * dZ2.dot(A1.T)\n",
    "    db2 = 1 / train_size * np.sum(dZ2)\n",
    "    dZ1 = W2.T.dot(dZ2) * ReLU_deriv(Z1)\n",
    "    dW1 = 1 / train_size * dZ1.dot(X.T)\n",
    "    db1 = 1 / train_size * np.sum(dZ1)\n",
    "    return dW1, db1, dW2, db2\n",
    "\n",
    "#updating weights and bias\n",
    "def update_params(W1, b1, W2, b2, dW1, db1, dW2, db2, l_rate):\n",
    "    W1 = W1 - l_rate * dW1\n",
    "    b1 = b1 - l_rate * db1    \n",
    "    W2 = W2 - l_rate * dW2  \n",
    "    b2 = b2 - l_rate * db2    \n",
    "    return W1, b1, W2, b2"
   ]
  },
  {
   "cell_type": "code",
   "execution_count": null,
   "id": "f058d156",
   "metadata": {},
   "outputs": [],
   "source": [
    "def get_predictions(A2):\n",
    "    return np.argmax(A2, 0)\n",
    "\n",
    "def get_accuracy(predictions, Y):\n",
    "    return np.sum(predictions == Y) / Y.size\n",
    "\n",
    "def train_network(X, Y, l_rate, iterations, neuron, output, activation):\n",
    "    W1, b1, W2, b2 = init_params(X.shape[0],neuron, output )\n",
    "    print(f\"Training Network with {activation} activation fuction ....\")\n",
    "    for i in tqdm(range(iterations+1)):\n",
    "        \n",
    "        Z1, A1, Z2, A2 = forward_prop(W1, b1, W2, b2, X, activation)\n",
    "        dW1, db1, dW2, db2 = backward_prop(Z1, A1, Z2, A2, W1, W2, X, Y)\n",
    "        W1, b1, W2, b2 = update_params(W1, b1, W2, b2, dW1, db1, dW2, db2, l_rate)\n",
    "        if i % 25 == 0:\n",
    "            predictions = get_predictions(A2)\n",
    "            print(f'Iteration: {i},\\tTraining Accuracy: {get_accuracy(predictions, Y)} ')\n",
    "    return W1, b1, W2, b2"
   ]
  },
  {
   "cell_type": "code",
   "execution_count": null,
   "id": "6dffa342",
   "metadata": {},
   "outputs": [],
   "source": [
    "learning_rate = 0.2\n",
    "iterations = 600\n",
    "h_layer1_neuron = 100\n",
    "output_layer = 10\n",
    "\n",
    "#Choose which activation function needs to be use.\n",
    "activation  = \"ReLU\"\n",
    "#activation = \"sigmoid\"\n",
    "W1, b1, W2, b2 = train_network(train_image, train_lab, learning_rate, iterations,h_layer1_neuron,output_layer, activation)\n"
   ]
  },
  {
   "cell_type": "code",
   "execution_count": null,
   "id": "3d714d31",
   "metadata": {},
   "outputs": [],
   "source": [
    "def make_predictions(X, W1, b1, W2, b2):\n",
    "    _, _, _, A2 = forward_prop(W1, b1, W2, b2, X,activation)\n",
    "    predictions = get_predictions(A2)\n",
    "    return predictions\n",
    "\n",
    "def test_prediction(image, W1, b1, W2, b2):\n",
    "    prediction = make_predictions(image, W1, b1, W2, b2)\n",
    "    return prediction\n"
   ]
  },
  {
   "cell_type": "code",
   "execution_count": null,
   "id": "cd9ca47f",
   "metadata": {},
   "outputs": [],
   "source": [
    "plt.figure(\"Prediction\", (50,50))\n",
    "\n",
    "for i in range(30):\n",
    "    index = random.randint(0, test_image.shape[0])\n",
    "    image = test_image[:, index, None]\n",
    "    prediction = test_prediction(image, W1, b1, W2, b2)\n",
    "    label = test_lab[index]\n",
    "    image = image.reshape((28, 28)) * 255\n",
    "    plt.subplot(10, 10, i+1)\n",
    "    plt.gray()\n",
    "    plt.imshow(image)\n",
    "    plt.title(f'Predicted :{prediction}, True Label: {label}')\n",
    "\n",
    "plt.show()\n",
    "    "
   ]
  },
  {
   "cell_type": "code",
   "execution_count": null,
   "id": "35e96cf8",
   "metadata": {},
   "outputs": [],
   "source": [
    "test_predictions = make_predictions(test_image, W1, b1, W2, b2)\n",
    "print(f'Test accuracy: {get_accuracy(test_predictions, test_lab)}')"
   ]
  }
 ],
 "metadata": {
  "kernelspec": {
   "display_name": "Python 3.10.2 64-bit",
   "language": "python",
   "name": "python3"
  },
  "language_info": {
   "codemirror_mode": {
    "name": "ipython",
    "version": 3
   },
   "file_extension": ".py",
   "mimetype": "text/x-python",
   "name": "python",
   "nbconvert_exporter": "python",
   "pygments_lexer": "ipython3",
   "version": "3.10.2"
  },
  "vscode": {
   "interpreter": {
    "hash": "0e8e2e90fab532a42097ef94148eba2f8b50475a6719a71ddb1a43629ae84384"
   }
  }
 },
 "nbformat": 4,
 "nbformat_minor": 5
}
